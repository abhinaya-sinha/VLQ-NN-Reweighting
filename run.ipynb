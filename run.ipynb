{
 "cells": [
  {
   "cell_type": "code",
   "execution_count": 1,
   "metadata": {},
   "outputs": [],
   "source": [
    "import numpy as np\n",
    "import pandas as pd\n",
    "import matplotlib.pyplot as plt\n",
    "import torch\n",
    "import torch.nn as nn\n",
    "from torch import optim\n",
    "import Data\n",
    "from Data import CSVData\n",
    "from train_model import train_model\n",
    "from DNN import DNN"
   ]
  },
  {
   "cell_type": "code",
   "execution_count": 2,
   "metadata": {},
   "outputs": [],
   "source": [
    "features = ['mode',\n",
    "'Msim',\n",
    "'Gsim',\n",
    "'pz_in1', \n",
    "'pz_in2',\n",
    "'px_out1',\n",
    "'py_out1',\n",
    "'pz_out1',\n",
    "'e_out1',\n",
    "'px_out2',\n",
    "'py_out2',\n",
    "'pz_out2',\n",
    "'e_out2',\n",
    "'px_out3',\n",
    "'py_out3',\n",
    "'pz_out3',\n",
    "'e_out3',\n",
    "'px_out4',\n",
    "'py_out4',\n",
    "'pz_out4',\n",
    "'e_out4',\n",
    "'Mtarget',\n",
    "'Gtarget',]\n",
    "label = 'f_rwt'\n",
    "features_to_rescale = ['Msim',\n",
    "'Gsim',\n",
    "'pz_in1', \n",
    "'pz_in2',\n",
    "'px_out1',\n",
    "'py_out1',\n",
    "'pz_out1',\n",
    "'e_out1',\n",
    "'px_out2',\n",
    "'py_out2',\n",
    "'pz_out2',\n",
    "'e_out2',\n",
    "'px_out3',\n",
    "'py_out3',\n",
    "'pz_out3',\n",
    "'e_out3',\n",
    "'px_out4',\n",
    "'py_out4',\n",
    "'pz_out4',\n",
    "'e_out4',\n",
    "'Mtarget',\n",
    "'Gtarget']\n",
    "VLQData = CSVData(batch_size=2048, features_name=features, labels_name=label, features_to_rescale= features_to_rescale, file_names=['/raid/projects/asinha15/train_'+str(i)+'.csv' for i in range(0,5)])\n",
    "test_data = CSVData(batch_size=1024, features_name=features, labels_name=label, features_to_rescale= features_to_rescale, file_names=['/raid/projects/asinha15/test_'+str(i)+'.csv' for i in range(0,3)])"
   ]
  },
  {
   "cell_type": "code",
   "execution_count": 3,
   "metadata": {},
   "outputs": [],
   "source": [
    "net = DNN(Layers=[23,32, 64, 16, 8]).build_model()\n",
    "optimizer = optim.Adam(net.parameters(), lr=1e-3)\n",
    "epochs=150"
   ]
  },
  {
   "cell_type": "code",
   "execution_count": null,
   "metadata": {},
   "outputs": [
    {
     "name": "stdout",
     "output_type": "stream",
     "text": [
      "[1,  2000] loss: 707118.857\n",
      "Epoch 1: 643804.0499796892\n",
      "[2,  2000] loss: 664.461\n",
      "Epoch 2: 622.9293769503323\n",
      "[3,  2000] loss: 152.985\n",
      "Epoch 3: 147.07396368208288\n",
      "[4,  2000] loss: 143.855\n",
      "Epoch 4: 137.54788171938458\n",
      "[5,  2000] loss: 221.387\n",
      "Epoch 5: 207.2441418824491\n",
      "[6,  2000] loss: 121.722\n",
      "Epoch 6: 143.65409243814935\n",
      "[7,  2000] loss: 4475.867\n",
      "Epoch 7: 4119.8338145128855\n",
      "[8,  2000] loss: 290.795\n",
      "Epoch 8: 266.09858562968566\n",
      "[9,  2000] loss: 96.976\n",
      "Epoch 9: 89.68511724138347\n",
      "[10,  2000] loss: 3931.215\n",
      "Epoch 10: 3797.35938013365\n",
      "[11,  2000] loss: 1068.726\n",
      "Epoch 11: 979.5171362530333\n",
      "[12,  2000] loss: 254.098\n",
      "Epoch 12: 235.95734358457852\n"
     ]
    }
   ],
   "source": [
    "losses, test_losses = train_model.train(train_data=VLQData, test_data = test_data, net = net, optimizer=optimizer, epochs=epochs)"
   ]
  },
  {
   "cell_type": "code",
   "execution_count": null,
   "metadata": {},
   "outputs": [],
   "source": [
    "model_scripted = torch.jit.script(net)\n",
    "model_scripted.save('trained_models/model_scripted3.pt')"
   ]
  },
  {
   "cell_type": "code",
   "execution_count": null,
   "metadata": {},
   "outputs": [],
   "source": [
    "test_losses"
   ]
  },
  {
   "cell_type": "code",
   "execution_count": null,
   "metadata": {},
   "outputs": [],
   "source": [
    "plt.plot(np.linspace(0,epochs, epochs), losses, label = 'train loss')\n",
    "plt.yscale('log')\n",
    "plt.plot(np.linspace(0, epochs, epochs), test_losses, label = 'test loss')\n",
    "plt.yscale('log')\n",
    "plt.legend()\n",
    "plt.savefig('plot3.png')\n",
    "plt.show()"
   ]
  }
 ],
 "metadata": {
  "interpreter": {
   "hash": "6cabad3603271b9a4b0e675529b042b4c1e54412c1787df75b141695f729bf60"
  },
  "kernelspec": {
   "display_name": "Python 3 (ipykernel)",
   "language": "python",
   "name": "python3"
  },
  "language_info": {
   "codemirror_mode": {
    "name": "ipython",
    "version": 3
   },
   "file_extension": ".py",
   "mimetype": "text/x-python",
   "name": "python",
   "nbconvert_exporter": "python",
   "pygments_lexer": "ipython3",
   "version": "3.7.13"
  }
 },
 "nbformat": 4,
 "nbformat_minor": 2
}
