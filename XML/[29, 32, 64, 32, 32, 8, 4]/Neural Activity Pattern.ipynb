{
 "cells": [
  {
   "cell_type": "markdown",
   "id": "4dac9833-01de-4f2b-8302-dd6423ba4a47",
   "metadata": {},
   "source": [
    "https://github.com/yorkiva/IN/blob/modified_1/03_NeuronFiringDisplay.ipynb"
   ]
  },
  {
   "cell_type": "code",
   "execution_count": 1,
   "id": "24dace9c-5dec-46b1-aad1-baf707df99cc",
   "metadata": {},
   "outputs": [],
   "source": [
    "import os \n",
    "os.chdir ('/projects/bbhj/asinha15/VLQ-NN-Reweighting/main/')"
   ]
  },
  {
   "cell_type": "code",
   "execution_count": 2,
   "id": "91549d0b-1898-4d10-8d7c-b85f878fae82",
   "metadata": {},
   "outputs": [],
   "source": [
    "import numpy as np\n",
    "import matplotlib\n",
    "from matplotlib import pyplot as plt\n",
    "from matplotlib import cm\n",
    "import matplotlib.colors as colors\n",
    "import pandas as pd\n",
    "import torch\n",
    "import torch.nn as nn\n",
    "import glob\n",
    "import json\n",
    "from DNN.Data import CSVData\n",
    "from DNN.Data import Data"
   ]
  },
  {
   "cell_type": "code",
   "execution_count": 3,
   "id": "0ef9fbe1-be18-460e-b0ab-fc2365b4a9aa",
   "metadata": {},
   "outputs": [],
   "source": [
    "if torch.cuda.is_available():\n",
    "    device = 'cuda'\n",
    "else:\n",
    "    device = 'cpu'"
   ]
  },
  {
   "cell_type": "code",
   "execution_count": 4,
   "id": "5d0bb6e7-b427-4444-96c6-93ff489c8cf5",
   "metadata": {},
   "outputs": [
    {
     "data": {
      "text/plain": [
       "RecursiveScriptModule(\n",
       "  original_name=Sequential\n",
       "  (Linear0): RecursiveScriptModule(original_name=Linear)\n",
       "  (Activation0): RecursiveScriptModule(original_name=LeakyReLU)\n",
       "  (Linear1): RecursiveScriptModule(original_name=Linear)\n",
       "  (Activation1): RecursiveScriptModule(original_name=LeakyReLU)\n",
       "  (Linear2): RecursiveScriptModule(original_name=Linear)\n",
       "  (Activation2): RecursiveScriptModule(original_name=LeakyReLU)\n",
       "  (Linear3): RecursiveScriptModule(original_name=Linear)\n",
       "  (Activation3): RecursiveScriptModule(original_name=LeakyReLU)\n",
       "  (Linear4): RecursiveScriptModule(original_name=Linear)\n",
       "  (Activation4): RecursiveScriptModule(original_name=LeakyReLU)\n",
       "  (Linear5): RecursiveScriptModule(original_name=Linear)\n",
       "  (Activation5): RecursiveScriptModule(original_name=LeakyReLU)\n",
       "  (Linear_last): RecursiveScriptModule(original_name=Linear)\n",
       ")"
      ]
     },
     "execution_count": 4,
     "metadata": {},
     "output_type": "execute_result"
    }
   ],
   "source": [
    "model_path = 'trained_models/[29, 32, 64, 32, 32, 16, 8, 4].pt'\n",
    "model = torch.jit.load(model_path).to(device)\n",
    "model.eval()"
   ]
  },
  {
   "cell_type": "code",
   "execution_count": 5,
   "id": "5cde0003-7a43-4525-999f-78fb35a85eb7",
   "metadata": {},
   "outputs": [
    {
     "name": "stdout",
     "output_type": "stream",
     "text": [
      "Linear0.weight\n",
      "Linear0.bias\n",
      "Linear1.weight\n",
      "Linear1.bias\n",
      "Linear2.weight\n",
      "Linear2.bias\n",
      "Linear3.weight\n",
      "Linear3.bias\n",
      "Linear4.weight\n",
      "Linear4.bias\n",
      "Linear5.weight\n",
      "Linear5.bias\n",
      "Linear_last.weight\n",
      "Linear_last.bias\n"
     ]
    }
   ],
   "source": [
    "for name, param in model.named_parameters():\n",
    "    print(name)"
   ]
  },
  {
   "cell_type": "code",
   "execution_count": 6,
   "id": "6508c93e-983b-41b0-a002-76d0390a544c",
   "metadata": {},
   "outputs": [],
   "source": [
    "W = []\n",
    "B = []\n",
    "for name, param in model.named_parameters():\n",
    "    if 'weight' in name:\n",
    "        W.append(param.cpu().detach().numpy().transpose())\n",
    "    elif 'bias' in name:\n",
    "        B.append(param.cpu().detach().numpy())\n",
    "L = len(W)"
   ]
  },
  {
   "cell_type": "code",
   "execution_count": 7,
   "id": "11cc633f-4859-4960-b08b-95492e0c513b",
   "metadata": {},
   "outputs": [],
   "source": [
    "def NeuronFiringEvaluator(model, x, weighted_firing=False):\n",
    "    FiringEvaluator = []\n",
    "    layer_tags = []\n",
    "    A = [x] + [None]*L\n",
    "    for l in range(L-1):\n",
    "        A[l+1] = np.maximum(0.01*(A[l].dot(W[l])+B[l]),A[l].dot(W[l])+B[l])\n",
    "        if not weighted_firing:\n",
    "            FiringEvaluator.append(torch.sum(torch.tensor(A[l+1]) > 0, 0).cpu().numpy())\n",
    "        else:\n",
    "            FiringEvaluator.append(torch.sum(torch.tensor(A[l+1]), 0).cpu().numpy())\n",
    "        layer_tags.append(\"Linear\" + str(l))\n",
    "    N = A[L-1].dot(W[L-1])+B[L-1]\n",
    "    del A\n",
    "    return N, FiringEvaluator, layer_tags"
   ]
  },
  {
   "cell_type": "code",
   "execution_count": 8,
   "id": "70f9b055-3f8e-4752-a0ca-80488363ece0",
   "metadata": {},
   "outputs": [],
   "source": [
    "def eval(model, data, mode=[-1,0,1], weighted_firing = False, device = 'cpu'):\n",
    "    lst = []\n",
    "    correct = []\n",
    "    FiringMatrix = []\n",
    "    ii = 0\n",
    "    \n",
    "    with torch.no_grad():\n",
    "        for X, Y in train_data.generate_data():\n",
    "            inputs = []\n",
    "            labels = []\n",
    "            for i, j in zip(X, np.log(np.array(Y))):\n",
    "                if i[0] in mode:\n",
    "                    inputs.append(i)\n",
    "                    labels.append(i)\n",
    "            del X, Y\n",
    "            inputs = np.array(inputs)\n",
    "            labels = np.array(labels)\n",
    "            \n",
    "            out, FiringEvaluator, layer_tags = NeuronFiringEvaluator(model, inputs, weighted_firing)\n",
    "            if ii == 0:\n",
    "                for jj in range(len(FiringEvaluator)):\n",
    "                    FiringMatrix.append(FiringEvaluator[jj])\n",
    "            else:\n",
    "                for jj in range(len(FiringEvaluator)):\n",
    "                    FiringMatrix[jj] += FiringEvaluator[jj]\n",
    "            lst.append(out)\n",
    "            correct.append(labels)\n",
    "            ii += 1\n",
    "    predicted = np.concatenate(lst)\n",
    "    f_rwt = np.concatenate(correct)\n",
    "    \n",
    "    return predicted, f_rwt, FiringMatrix, layer_tags"
   ]
  },
  {
   "cell_type": "code",
   "execution_count": 9,
   "id": "af07032a-33b6-4fbc-85f7-e6fe097d0d80",
   "metadata": {},
   "outputs": [],
   "source": [
    "def ActivationMapPlotter(FiringMatrix, layer_tags, tag='baseline'):\n",
    "    FiringMatrix_0 = FiringMatrix.copy()\n",
    "    N_cols = len(FiringMatrix_0)\n",
    "    N_rows = max([len(i) for i in FiringMatrix_0])\n",
    "    \n",
    "    for ii in range(len(FiringMatrix_0)):\n",
    "        max_0 = np.amax(FiringMatrix_0[ii])\n",
    "        FiringMatrix_0[ii] = FiringMatrix_0[ii]/max_0\n",
    "    for ii in range(N_cols):\n",
    "        if len(FiringMatrix_0[ii]) < N_rows:\n",
    "            FiringMatrix_0[ii] = np.append(FiringMatrix_0[ii], \n",
    "                                           np.ones(N_rows - len(FiringMatrix_0[ii]))*np.nan)\n",
    "    \n",
    "    FiringMatrix_0 = np.array(FiringMatrix_0)\n",
    "\n",
    "    print(\"Sparsity measure (RNA < 0.2): \", np.sum(FiringMatrix_0 < 0.2)/FiringMatrix_0.size)\n",
    "    weights = FiringMatrix_0.reshape(-1) \n",
    "    x = np.array([np.arange(N_cols)]*N_rows).T.reshape(-1) + 0.25\n",
    "    y = np.array([np.arange(N_rows)]*N_cols).reshape(-1) + 0.5\n",
    "    \n",
    "    fig, axes = plt.subplots(1,1,figsize=(6,6))\n",
    "    norm = colors.TwoSlopeNorm(vcenter=0)\n",
    "    _,_,_,im = axes.hist2d(x,y,\n",
    "                   bins=[np.arange(0,N_cols+0.25,1), np.arange(N_rows+1)],\n",
    "                   weights = weights, cmap = 'bwr', cmin = -1, cmax = 1, norm=norm)\n",
    "    axes.set_facecolor('black')\n",
    "\n",
    "    fig.colorbar(im, ax=axes)\n",
    "    axes.set_xlabel('Network Activation Layers')\n",
    "    axes.set_ylabel('Node in hidden layer')\n",
    "    axes.set_xticks(np.arange(N_cols) + 0.5) \n",
    "    axes.set_xticklabels(layer_tags, rotation='vertical')\n",
    "    #plt.savefig(\"plots/XML/NAP_{}.png\".format(tag))\n",
    "    plt.show()"
   ]
  },
  {
   "cell_type": "code",
   "execution_count": 25,
   "id": "59919dfa-7108-4b12-8060-6f7c673ea47a",
   "metadata": {},
   "outputs": [],
   "source": [
    "def ActivationMapDifferencePlotter(FiringMatrix_i, FiringMatrix_ii, layer_tags, tag='baseline_difference'):\n",
    "    FiringMatrix_0 = FiringMatrix_i.copy()\n",
    "    FiringMatrix_1 = FiringMatrix_ii.copy()\n",
    "    N_cols = len(FiringMatrix_0)\n",
    "    N_rows = max([len(i) for i in FiringMatrix_0])\n",
    "    \n",
    "    for ii in range(len(FiringMatrix_0)):\n",
    "        max_0 = FiringMatrix_0[ii].max()\n",
    "        max_1 = FiringMatrix_1[ii].max()\n",
    "        FiringMatrix_0[ii] = FiringMatrix_0[ii]/max_0\n",
    "        FiringMatrix_1[ii] = FiringMatrix_1[ii]/max_1\n",
    "    for ii in range(N_cols):\n",
    "        if len(FiringMatrix_0[ii]) < N_rows:\n",
    "            FiringMatrix_0[ii] = np.append(FiringMatrix_0[ii], \n",
    "                                           np.ones(N_rows - len(FiringMatrix_0[ii]))*np.nan)\n",
    "            FiringMatrix_1[ii] = np.append(FiringMatrix_1[ii], \n",
    "                                           np.ones(N_rows - len(FiringMatrix_1[ii]))*np.nan)\n",
    "    \n",
    "    FiringMatrix_0 = np.array(FiringMatrix_0)\n",
    "    FiringMatrix_1 = np.array(FiringMatrix_1)\n",
    "    \n",
    "    fig, axes = plt.subplots(1,1,figsize=(6,6))\n",
    "    weights = np.abs(FiringMatrix_1.reshape(-1) - FiringMatrix_0.reshape(-1))\n",
    "    x = np.array([np.arange(N_cols)]*N_rows).T.reshape(-1) + 0.5\n",
    "    y = np.array([np.arange(N_rows)]*N_cols).reshape(-1) + 0.5\n",
    "    norm = colors.TwoSlopeNorm(vcenter=0.4)\n",
    "    _,_,_,im = axes.hist2d(x,y,\n",
    "                   bins=[np.arange(N_cols+1), np.arange(N_rows+1)],\n",
    "                   weights = weights, cmap = 'Reds', norm=norm)\n",
    "\n",
    "    fig.colorbar(im, ax=axes)\n",
    "    axes.set_facecolor('black')\n",
    "    axes.set_xlabel('Network Activation Layers')\n",
    "    axes.set_ylabel('Node in hidden layer')\n",
    "    axes.set_xticks(np.arange(N_cols) + 0.5)\n",
    "    axes.set_xticklabels(layer_tags, rotation='vertical')\n",
    "\n",
    "    #plt.savefig(\"plots_xAI/dNAP_{}.png\".format(tag))\n",
    "    plt.show()\n",
    "    "
   ]
  },
  {
   "cell_type": "code",
   "execution_count": 11,
   "id": "a712d273-5a51-42de-91d9-fd817672ad21",
   "metadata": {},
   "outputs": [],
   "source": [
    "features = ['mode',\n",
    "'Msim',\n",
    "'Gsim',\n",
    "'pz_in1',\n",
    "'pid_in1', \n",
    "'pz_in2',\n",
    "'pid_in2',\n",
    "'px_out1',\n",
    "'py_out1',\n",
    "'pz_out1',\n",
    "'e_out1',\n",
    "'pid_out1',\n",
    "'px_out2',\n",
    "'py_out2',\n",
    "'pz_out2',\n",
    "'e_out2',\n",
    "'pid_out2',\n",
    "'px_out3',\n",
    "'py_out3',\n",
    "'pz_out3',\n",
    "'e_out3',\n",
    "'pid_out3',\n",
    "'px_out4',\n",
    "'py_out4',\n",
    "'pz_out4',\n",
    "'e_out4',\n",
    "'pid_out4',\n",
    "'Mtarget',\n",
    "'Gtarget',]\n",
    "label = 'f_rwt'\n",
    "features_to_rescale = ['Msim',\n",
    "'Gsim',\n",
    "'pz_in1', \n",
    "'pz_in2',\n",
    "'px_out1',\n",
    "'py_out1',\n",
    "'pz_out1',\n",
    "'e_out1',\n",
    "'px_out2',\n",
    "'py_out2',\n",
    "'pz_out2',\n",
    "'e_out2',\n",
    "'px_out3',\n",
    "'py_out3',\n",
    "'pz_out3',\n",
    "'e_out3',\n",
    "'px_out4',\n",
    "'py_out4',\n",
    "'pz_out4',\n",
    "'e_out4',\n",
    "'Mtarget',\n",
    "'Gtarget']\n",
    "\n",
    "train_data = CSVData(batch_size=1024, features_name=features, labels_name=label, features_to_rescale= features_to_rescale, file_names=['/projects/bbhj/asinha15/train_' + str(i)+'.csv' for i in range(0,10)])"
   ]
  },
  {
   "cell_type": "code",
   "execution_count": 12,
   "id": "31885c52-0e83-4a54-a458-13dfce83d519",
   "metadata": {},
   "outputs": [],
   "source": [
    "predicted_i, actual_i, FiringMatrix_i, layer_tags_i = eval(model, train_data, mode = [-1], weighted_firing = True)\n",
    "predicted_ii, actual_ii, FiringMatrix_ii, layer_tags_ii = eval(model, train_data, mode = [0], weighted_firing = True)\n",
    "predicted_iii, actual_iii, FiringMatrix_iii, layer_tags_iii = eval(model, train_data, mode = [1], weighted_firing = True)"
   ]
  },
  {
   "cell_type": "code",
   "execution_count": 13,
   "id": "44fc9edb-58ab-4fa5-b1ce-88ca65c47c31",
   "metadata": {},
   "outputs": [
    {
     "name": "stdout",
     "output_type": "stream",
     "text": [
      "Mode W\n",
      "Sparsity measure (RNA < 0.2):  0.2708333333333333\n"
     ]
    },
    {
     "data": {
      "image/png": "[encoded data removed]",
      "text/plain": [
       "<Figure size 432x432 with 2 Axes>"
      ]
     },
     "metadata": {
      "needs_background": "light"
     },
     "output_type": "display_data"
    }
   ],
   "source": [
    "print(\"Mode W\")\n",
    "ActivationMapPlotter(FiringMatrix_i, layer_tags_i)"
   ]
  },
  {
   "cell_type": "code",
   "execution_count": 14,
   "id": "697ebc46-2b87-4e8b-9204-70c545fa0dd6",
   "metadata": {},
   "outputs": [
    {
     "name": "stdout",
     "output_type": "stream",
     "text": [
      "Mode H\n",
      "Sparsity measure (RNA < 0.2):  0.3541666666666667\n"
     ]
    },
    {
     "data": {
      "image/png": "[encoded data removed]",
      "text/plain": [
       "<Figure size 432x432 with 2 Axes>"
      ]
     },
     "metadata": {
      "needs_background": "light"
     },
     "output_type": "display_data"
    }
   ],
   "source": [
    "print(\"Mode H\")\n",
    "ActivationMapPlotter(FiringMatrix_ii, layer_tags_ii)"
   ]
  },
  {
   "cell_type": "code",
   "execution_count": 15,
   "id": "83902f1c-e667-4d0c-a0cb-d0fe89d4f098",
   "metadata": {},
   "outputs": [
    {
     "name": "stdout",
     "output_type": "stream",
     "text": [
      "Mode Z\n",
      "Sparsity measure (RNA < 0.2):  0.2734375\n"
     ]
    },
    {
     "data": {
      "image/png": "[encoded data removed]",
      "text/plain": [
       "<Figure size 432x432 with 2 Axes>"
      ]
     },
     "metadata": {
      "needs_background": "light"
     },
     "output_type": "display_data"
    }
   ],
   "source": [
    "print(\"Mode Z\")\n",
    "ActivationMapPlotter(FiringMatrix_iii, layer_tags_iii)"
   ]
  },
  {
   "cell_type": "code",
   "execution_count": 26,
   "id": "6c42f1ef-34eb-4894-9280-245df20ce2d2",
   "metadata": {},
   "outputs": [
    {
     "name": "stdout",
     "output_type": "stream",
     "text": [
      "W-H\n"
     ]
    },
    {
     "data": {
      "image/png": "[encoded data removed]",
      "text/plain": [
       "<Figure size 432x432 with 2 Axes>"
      ]
     },
     "metadata": {
      "needs_background": "light"
     },
     "output_type": "display_data"
    }
   ],
   "source": [
    " print(\"W-H\")\n",
    "ActivationMapDifferencePlotter(FiringMatrix_i, FiringMatrix_ii, layer_tags_i)"
   ]
  },
  {
   "cell_type": "code",
   "execution_count": 27,
   "id": "fac6a24e-6855-4b3a-aa00-3a336b437d2d",
   "metadata": {},
   "outputs": [
    {
     "name": "stdout",
     "output_type": "stream",
     "text": [
      "W-Z\n"
     ]
    },
    {
     "data": {
      "image/png": "[encoded data removed]",
      "text/plain": [
       "<Figure size 432x432 with 2 Axes>"
      ]
     },
     "metadata": {
      "needs_background": "light"
     },
     "output_type": "display_data"
    }
   ],
   "source": [
    " print(\"W-Z\")\n",
    "ActivationMapDifferencePlotter(FiringMatrix_i, FiringMatrix_iii, layer_tags_i)"
   ]
  },
  {
   "cell_type": "code",
   "execution_count": null,
   "id": "6ebd5655-3a0d-462b-9a4d-6f4b2cf32719",
   "metadata": {},
   "outputs": [],
   "source": []
  }
 ],
 "metadata": {
  "kernelspec": {
   "display_name": "Python 3 (ipykernel)",
   "language": "python",
   "name": "python3"
  },
  "language_info": {
   "codemirror_mode": {
    "name": "ipython",
    "version": 3
   },
   "file_extension": ".py",
   "mimetype": "text/x-python",
   "name": "python",
   "nbconvert_exporter": "python",
   "pygments_lexer": "ipython3",
   "version": "3.9.12"
  }
 },
 "nbformat": 4,
 "nbformat_minor": 5
}
