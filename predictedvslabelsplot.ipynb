{
 "cells": [
  {
   "cell_type": "code",
   "execution_count": null,
   "metadata": {},
   "outputs": [],
   "source": [
    "import numpy as np\n",
    "import pandas as pd\n",
    "import matplotlib.pyplot as plt\n",
    "import torch\n",
    "import torch.nn as nn\n",
    "from torch import optim\n",
    "import Data\n",
    "from Data import CSVData"
   ]
  },
  {
   "cell_type": "code",
   "execution_count": 25,
   "metadata": {},
   "outputs": [
    {
     "data": {
      "text/plain": [
       "RecursiveScriptModule(\n",
       "  original_name=Sequential\n",
       "  (Linear0): RecursiveScriptModule(original_name=Linear)\n",
       "  (Activation0): RecursiveScriptModule(original_name=LeakyReLU)\n",
       "  (Linear1): RecursiveScriptModule(original_name=Linear)\n",
       "  (Activation1): RecursiveScriptModule(original_name=LeakyReLU)\n",
       "  (Linear2): RecursiveScriptModule(original_name=Linear)\n",
       "  (Activation2): RecursiveScriptModule(original_name=LeakyReLU)\n",
       "  (Linear_last): RecursiveScriptModule(original_name=Linear)\n",
       "  (Activation_last): RecursiveScriptModule(original_name=LeakyReLU)\n",
       ")"
      ]
     },
     "execution_count": 25,
     "metadata": {},
     "output_type": "execute_result"
    }
   ],
   "source": [
    "model_path = '.../model_scripted4.pt'\n",
    "model = torch.jit.load(model_path)\n",
    "model.eval()"
   ]
  },
  {
   "cell_type": "code",
   "execution_count": 26,
   "metadata": {},
   "outputs": [],
   "source": [
    "features = ['mode',\n",
    "'Msim',\n",
    "'Gsim',\n",
    "'pz_in1', \n",
    "'pz_in2',\n",
    "'px_out1',\n",
    "'py_out1',\n",
    "'pz_out1',\n",
    "'e_out1',\n",
    "'px_out2',\n",
    "'py_out2',\n",
    "'pz_out2',\n",
    "'e_out2',\n",
    "'px_out3',\n",
    "'py_out3',\n",
    "'pz_out3',\n",
    "'e_out3',\n",
    "'px_out4',\n",
    "'py_out4',\n",
    "'pz_out4',\n",
    "'e_out4',\n",
    "'Mtarget',\n",
    "'Gtarget',]\n",
    "label = 'f_rwt'\n",
    "features_to_rescale = ['Msim',\n",
    "'Gsim',\n",
    "'pz_in1', \n",
    "'pz_in2',\n",
    "'px_out1',\n",
    "'py_out1',\n",
    "'pz_out1',\n",
    "'e_out1',\n",
    "'px_out2',\n",
    "'py_out2',\n",
    "'pz_out2',\n",
    "'e_out2',\n",
    "'px_out3',\n",
    "'py_out3',\n",
    "'pz_out3',\n",
    "'e_out3',\n",
    "'px_out4',\n",
    "'py_out4',\n",
    "'pz_out4',\n",
    "'e_out4',\n",
    "'Mtarget',\n",
    "'Gtarget']"
   ]
  },
  {
   "cell_type": "code",
   "execution_count": 27,
   "metadata": {},
   "outputs": [],
   "source": [
    "test_data = CSVData(batch_size=1024, features_name=features, labels_name=label, features_to_rescale= features_to_rescale, file_names=['.../test_0.csv'])"
   ]
  },
  {
   "cell_type": "code",
   "execution_count": 28,
   "metadata": {},
   "outputs": [],
   "source": [
    "X, Y = test_data.load_data_many()\n",
    "inputs = torch.Tensor(np.array(X))\n",
    "labels = torch.Tensor(np.log(np.array(Y)))"
   ]
  },
  {
   "cell_type": "code",
   "execution_count": 29,
   "metadata": {},
   "outputs": [],
   "source": [
    "with torch.no_grad():\n",
    "    test_out=model(inputs)"
   ]
  },
  {
   "cell_type": "code",
   "execution_count": 30,
   "metadata": {},
   "outputs": [],
   "source": [
    "test_out = torch.reshape(test_out, [150000])"
   ]
  },
  {
   "cell_type": "code",
   "execution_count": 31,
   "metadata": {},
   "outputs": [
    {
     "data": {
      "image/png": "[encoded data removed]",
      "text/plain": [
       "<Figure size 432x288 with 1 Axes>"
      ]
     },
     "metadata": {
      "needs_background": "light"
     },
     "output_type": "display_data"
    }
   ],
   "source": [
    "plt.scatter(labels, test_out)\n",
    "plt.xlabel('labels')\n",
    "plt.ylabel('predicted')\n",
    "plt.show()"
   ]
  }
 ],
 "metadata": {
  "kernelspec": {
   "display_name": "Python 3.9.7 ('base')",
   "language": "python",
   "name": "python3"
  },
  "language_info": {
   "codemirror_mode": {
    "name": "ipython",
    "version": 3
   },
   "file_extension": ".py",
   "mimetype": "text/x-python",
   "name": "python",
   "nbconvert_exporter": "python",
   "pygments_lexer": "ipython3",
   "version": "3.9.7"
  },
  "orig_nbformat": 4,
  "vscode": {
   "interpreter": {
    "hash": "6cabad3603271b9a4b0e675529b042b4c1e54412c1787df75b141695f729bf60"
   }
  }
 },
 "nbformat": 4,
 "nbformat_minor": 2
}
