{
 "cells": [
  {
   "cell_type": "code",
<<<<<<< HEAD
   "execution_count": 1,
=======
   "execution_count": null,
>>>>>>> d37e5373d5f5133c7dd5d444bb8f0d52997ea367
   "metadata": {},
   "outputs": [],
   "source": [
    "import numpy as np\n",
    "import pandas as pd\n",
    "import matplotlib.pyplot as plt\n",
    "import torch\n",
    "import torch.nn as nn\n",
    "from torch import optim\n",
    "import Data\n",
    "from Data import CSVData"
   ]
  },
  {
   "cell_type": "code",
<<<<<<< HEAD
   "execution_count": 4,
=======
   "execution_count": 25,
>>>>>>> d37e5373d5f5133c7dd5d444bb8f0d52997ea367
   "metadata": {},
   "outputs": [
    {
     "data": {
      "text/plain": [
       "RecursiveScriptModule(\n",
       "  original_name=Sequential\n",
       "  (Linear0): RecursiveScriptModule(original_name=Linear)\n",
       "  (Activation0): RecursiveScriptModule(original_name=LeakyReLU)\n",
       "  (Linear1): RecursiveScriptModule(original_name=Linear)\n",
       "  (Activation1): RecursiveScriptModule(original_name=LeakyReLU)\n",
       "  (Linear2): RecursiveScriptModule(original_name=Linear)\n",
       "  (Activation2): RecursiveScriptModule(original_name=LeakyReLU)\n",
       "  (Linear_last): RecursiveScriptModule(original_name=Linear)\n",
       "  (Activation_last): RecursiveScriptModule(original_name=LeakyReLU)\n",
       ")"
      ]
     },
<<<<<<< HEAD
     "execution_count": 4,
=======
     "execution_count": 25,
>>>>>>> d37e5373d5f5133c7dd5d444bb8f0d52997ea367
     "metadata": {},
     "output_type": "execute_result"
    }
   ],
   "source": [
<<<<<<< HEAD
    "model_path = 'C:/Users/Abhi/Downloads/model_scripted4.pt'\n",
=======
    "model_path = '.../model_scripted4.pt'\n",
>>>>>>> d37e5373d5f5133c7dd5d444bb8f0d52997ea367
    "model = torch.jit.load(model_path)\n",
    "model.eval()"
   ]
  },
  {
   "cell_type": "code",
<<<<<<< HEAD
   "execution_count": 5,
=======
   "execution_count": 26,
>>>>>>> d37e5373d5f5133c7dd5d444bb8f0d52997ea367
   "metadata": {},
   "outputs": [],
   "source": [
    "features = ['mode',\n",
    "'Msim',\n",
    "'Gsim',\n",
    "'pz_in1', \n",
    "'pz_in2',\n",
    "'px_out1',\n",
    "'py_out1',\n",
    "'pz_out1',\n",
    "'e_out1',\n",
    "'px_out2',\n",
    "'py_out2',\n",
    "'pz_out2',\n",
    "'e_out2',\n",
    "'px_out3',\n",
    "'py_out3',\n",
    "'pz_out3',\n",
    "'e_out3',\n",
    "'px_out4',\n",
    "'py_out4',\n",
    "'pz_out4',\n",
    "'e_out4',\n",
    "'Mtarget',\n",
    "'Gtarget',]\n",
    "label = 'f_rwt'\n",
    "features_to_rescale = ['Msim',\n",
    "'Gsim',\n",
    "'pz_in1', \n",
    "'pz_in2',\n",
    "'px_out1',\n",
    "'py_out1',\n",
    "'pz_out1',\n",
    "'e_out1',\n",
    "'px_out2',\n",
    "'py_out2',\n",
    "'pz_out2',\n",
    "'e_out2',\n",
    "'px_out3',\n",
    "'py_out3',\n",
    "'pz_out3',\n",
    "'e_out3',\n",
    "'px_out4',\n",
    "'py_out4',\n",
    "'pz_out4',\n",
    "'e_out4',\n",
    "'Mtarget',\n",
    "'Gtarget']"
   ]
  },
  {
   "cell_type": "code",
<<<<<<< HEAD
   "execution_count": 6,
   "metadata": {},
   "outputs": [],
   "source": [
    "test_data = CSVData(batch_size=1024, features_name=features, labels_name=label, features_to_rescale= features_to_rescale, file_names=['C:/Users/Abhi/test_0.csv'])"
=======
   "execution_count": 27,
   "metadata": {},
   "outputs": [],
   "source": [
    "test_data = CSVData(batch_size=1024, features_name=features, labels_name=label, features_to_rescale= features_to_rescale, file_names=['.../test_0.csv'])"
>>>>>>> d37e5373d5f5133c7dd5d444bb8f0d52997ea367
   ]
  },
  {
   "cell_type": "code",
<<<<<<< HEAD
   "execution_count": 7,
=======
   "execution_count": 28,
>>>>>>> d37e5373d5f5133c7dd5d444bb8f0d52997ea367
   "metadata": {},
   "outputs": [],
   "source": [
    "X, Y = test_data.load_data_many()\n",
    "inputs = torch.Tensor(np.array(X))\n",
    "labels = torch.Tensor(np.log(np.array(Y)))"
   ]
  },
  {
   "cell_type": "code",
<<<<<<< HEAD
   "execution_count": 8,
=======
   "execution_count": 29,
>>>>>>> d37e5373d5f5133c7dd5d444bb8f0d52997ea367
   "metadata": {},
   "outputs": [],
   "source": [
    "with torch.no_grad():\n",
    "    test_out=model(inputs)"
   ]
  },
  {
   "cell_type": "code",
<<<<<<< HEAD
   "execution_count": 9,
=======
   "execution_count": 30,
>>>>>>> d37e5373d5f5133c7dd5d444bb8f0d52997ea367
   "metadata": {},
   "outputs": [],
   "source": [
    "test_out = torch.reshape(test_out, [150000])"
   ]
  },
  {
   "cell_type": "code",
<<<<<<< HEAD
   "execution_count": 11,
=======
   "execution_count": 31,
>>>>>>> d37e5373d5f5133c7dd5d444bb8f0d52997ea367
   "metadata": {},
   "outputs": [
    {
     "data": {
<<<<<<< HEAD
      "image/png": "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",
=======
      "image/png": "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",
>>>>>>> d37e5373d5f5133c7dd5d444bb8f0d52997ea367
      "text/plain": [
       "<Figure size 432x288 with 1 Axes>"
      ]
     },
     "metadata": {
      "needs_background": "light"
     },
     "output_type": "display_data"
    }
   ],
   "source": [
<<<<<<< HEAD
    "plt.scatter(labels, test_out, s=0.1)\n",
=======
    "plt.scatter(labels, test_out)\n",
>>>>>>> d37e5373d5f5133c7dd5d444bb8f0d52997ea367
    "plt.xlabel('labels')\n",
    "plt.ylabel('predicted')\n",
    "plt.show()"
   ]
<<<<<<< HEAD
  },
  {
   "cell_type": "code",
   "execution_count": 16,
   "metadata": {},
   "outputs": [
    {
     "data": {
      "text/plain": [
       "tensor(0.9789)"
      ]
     },
     "execution_count": 16,
     "metadata": {},
     "output_type": "execute_result"
    }
   ],
   "source": [
    "1-torch.mean(torch.abs((labels-test_out)/labels))"
   ]
=======
>>>>>>> d37e5373d5f5133c7dd5d444bb8f0d52997ea367
  }
 ],
 "metadata": {
  "kernelspec": {
   "display_name": "Python 3.9.7 ('base')",
   "language": "python",
   "name": "python3"
  },
  "language_info": {
   "codemirror_mode": {
    "name": "ipython",
    "version": 3
   },
   "file_extension": ".py",
   "mimetype": "text/x-python",
   "name": "python",
   "nbconvert_exporter": "python",
   "pygments_lexer": "ipython3",
   "version": "3.9.7"
  },
  "orig_nbformat": 4,
  "vscode": {
   "interpreter": {
    "hash": "6cabad3603271b9a4b0e675529b042b4c1e54412c1787df75b141695f729bf60"
   }
  }
 },
 "nbformat": 4,
 "nbformat_minor": 2
}
