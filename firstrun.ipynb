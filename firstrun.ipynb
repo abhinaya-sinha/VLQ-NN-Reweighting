{
 "cells": [
  {
   "cell_type": "code",
   "execution_count": null,
   "metadata": {},
   "outputs": [],
   "source": [
    "import numpy as np\n",
    "import pandas as pd\n",
    "import matplotlib.pyplot as plt\n",
    "import torch\n",
    "import torch.nn as nn\n",
    "from torch import optim\n",
    "import sys\n",
    "sys.path.append(\"./IN\")\n",
    "import data\n",
    "from data import CSVData\n",
    "from train_model import train_model\n",
    "from DNN import DNN"
   ]
  },
  {
   "cell_type": "code",
   "execution_count": null,
   "metadata": {},
   "outputs": [],
   "source": [
    "features = ['pz_in1', \n",
    "'pid_in1', \n",
    "'pid_in2', \n",
    "'px_out1',\n",
    "'py_out1',\n",
    "'pz_out1',\n",
    "'e_out1',\n",
    "'pid_out1',\n",
    "'px_out2',\n",
    "'py_out2',\n",
    "'pz_out2',\n",
    "'e_out2',\n",
    "'pid_out2',\n",
    "'px_out3',\n",
    "'py_out3',\n",
    "'pz_out3',\n",
    "'e_out3',\n",
    "'pid_out3',\n",
    "'px_out4',\n",
    "'py_out4',\n",
    "'pz_out4',\n",
    "'e_out4',\n",
    "'pid_out4',\n",
    "'Mtarget',\n",
    "'Gtarget',]\n",
    "label = 'f_rwt'\n",
    "\n",
    "VLQData = CSVData(batch_size=1024, features_name=features, labels_name=label, file_names=['./train_'+str(i)+'.csv' for i in range(0,10)])"
   ]
  },
  {
   "cell_type": "code",
   "execution_count": null,
   "metadata": {},
   "outputs": [],
   "source": [
    "net = DNN().build_model()\n",
    "optimizer = optim.Adam(net.parameters(), lr=0.001)"
   ]
  },
  {
   "cell_type": "code",
   "execution_count": null,
   "metadata": {},
   "outputs": [],
   "source": [
    "losses, test_losses = train_model.train(train_data=VLQData, net = net, optimizer=optimizer, epochs=300)"
   ]
  },
  {
   "cell_type": "code",
   "execution_count": null,
   "metadata": {},
   "outputs": [],
   "source": [
    "plt.plot(np.linspace(0,300, 300), losses, label = 'train loss')\n",
    "plt.yscale('log')\n",
    "plt.plot(np.linspace(0,300, 300), test_losses, label = 'test loss')\n",
    "plt.yscale('log')\n",
    "plt.legend()\n",
    "plt.show()"
   ]
  }
 ],
 "metadata": {
  "interpreter": {
   "hash": "6cabad3603271b9a4b0e675529b042b4c1e54412c1787df75b141695f729bf60"
  },
  "kernelspec": {
   "display_name": "Python 3.9.7 ('base')",
   "language": "python",
   "name": "python3"
  },
  "language_info": {
   "name": "python",
   "version": "3.9.7"
  },
  "orig_nbformat": 4
 },
 "nbformat": 4,
 "nbformat_minor": 2
}
